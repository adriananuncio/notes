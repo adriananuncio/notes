{
 "cells": [
  {
   "cell_type": "markdown",
   "id": "ec73c25e",
   "metadata": {},
   "source": [
    "### Imports\n",
    "\n",
    "##### Data\n",
    " - from pydataset import data\n",
    "\n",
    "\n",
    "##### Data Manipulation\n",
    " - import numpy as np\n",
    "\n",
    "\n",
    "##### Math\n",
    " - import math\n",
    " - import matplotlib.pyplot as plt\n",
    " - import scipy.stats as stats\n",
    "\n",
    "\n",
    "##### Data Vizualization\n",
    " - import seaborn as sns\n",
    "  \n",
    "\n",
    "\n",
    "##### Unsorted\n",
    "- %matplotlib inline\n",
    "- import pandas as pd\n",
    "- import viz"
   ]
  },
  {
   "cell_type": "markdown",
   "id": "baedfe7c",
   "metadata": {},
   "source": [
    "##### Convert column names to lowercase\n",
    "\n",
    "    df.columns = df.columns.str.lower()"
   ]
  },
  {
   "cell_type": "markdown",
   "id": "adcc64b5",
   "metadata": {},
   "source": [
    "##### Replace column names spaces with underscores\n",
    "\n",
    "    df.columns = df.columns.str.replace(' ', '_')"
   ]
  },
  {
   "cell_type": "markdown",
   "id": "d89349c2",
   "metadata": {},
   "source": [
    "##### Convert all column names to lowercase AND replace spaces with underscores\n",
    "\n",
    "    df.columns = df.columns.str.lower().str.replace(' ', '_')"
   ]
  },
  {
   "cell_type": "markdown",
   "id": "4ff8e495",
   "metadata": {},
   "source": [
    "##### Load datasets from pydataset\n",
    "\n",
    "    from pydataset import data\n",
    "    \n",
    "    data()"
   ]
  },
  {
   "cell_type": "markdown",
   "id": "4ad5ae7d",
   "metadata": {},
   "source": [
    "##### Check for NaNs\n",
    "\n",
    "    np.isnan(df).any()\n",
    "    \n",
    "##### Convert NaN to number\n",
    "    \n",
    "    np.nan_to_num(df)\n",
    "  \n",
    "\n",
    "##### Check for infs\n",
    "    np.isinf(df.total_charges).any()"
   ]
  },
  {
   "cell_type": "code",
   "execution_count": null,
   "id": "bc75b499",
   "metadata": {},
   "outputs": [],
   "source": []
  },
  {
   "cell_type": "code",
   "execution_count": null,
   "id": "ccff0f45",
   "metadata": {},
   "outputs": [],
   "source": []
  },
  {
   "cell_type": "code",
   "execution_count": null,
   "id": "789bad91",
   "metadata": {},
   "outputs": [],
   "source": []
  },
  {
   "cell_type": "markdown",
   "id": "c8967bdb",
   "metadata": {},
   "source": [
    "##### Import a dataset from SQL"
   ]
  },
  {
   "cell_type": "code",
   "execution_count": null,
   "id": "8164c712",
   "metadata": {},
   "outputs": [],
   "source": [
    "# import\n",
    "\n",
    "from env import user, password, host"
   ]
  },
  {
   "cell_type": "code",
   "execution_count": null,
   "id": "b4a0ac85",
   "metadata": {},
   "outputs": [],
   "source": [
    "# call\n",
    "\n",
    "def get_db_url(user, host,password, db):\n",
    "    url = f'mysql+pymysql://{user}:{password}@{host}/{db}'\n",
    "    return url"
   ]
  },
  {
   "cell_type": "code",
   "execution_count": null,
   "id": "32925daf",
   "metadata": {},
   "outputs": [],
   "source": [
    "# establish url\n",
    "\n",
    "url = get_db_url(user, host, password, 'db')"
   ]
  },
  {
   "cell_type": "code",
   "execution_count": null,
   "id": "17be1c55",
   "metadata": {},
   "outputs": [],
   "source": [
    "# establish df\n",
    "\n",
    "df = pd.read_sql('select * from db', url)"
   ]
  },
  {
   "cell_type": "code",
   "execution_count": null,
   "id": "6ca80c6e",
   "metadata": {},
   "outputs": [],
   "source": []
  },
  {
   "cell_type": "markdown",
   "id": "98045563",
   "metadata": {},
   "source": [
    "### Symbols"
   ]
  },
  {
   "cell_type": "markdown",
   "id": "b7ad4be9",
   "metadata": {},
   "source": [
    "##### H$_0$"
   ]
  },
  {
   "cell_type": "code",
   "execution_count": 9,
   "id": "2149d78b",
   "metadata": {},
   "outputs": [],
   "source": [
    "# H$_0$"
   ]
  },
  {
   "cell_type": "markdown",
   "id": "aca1dae5",
   "metadata": {},
   "source": [
    "##### H$_a$"
   ]
  },
  {
   "cell_type": "code",
   "execution_count": 10,
   "id": "766c5d69",
   "metadata": {},
   "outputs": [],
   "source": [
    "# H$_a$"
   ]
  },
  {
   "cell_type": "markdown",
   "id": "0d750f2e",
   "metadata": {},
   "source": [
    "##### μ"
   ]
  },
  {
   "cell_type": "code",
   "execution_count": 11,
   "id": "740efbf4",
   "metadata": {},
   "outputs": [],
   "source": [
    "# \\mu TAB"
   ]
  },
  {
   "cell_type": "markdown",
   "id": "20eb2521",
   "metadata": {},
   "source": [
    "##### α"
   ]
  },
  {
   "cell_type": "code",
   "execution_count": 14,
   "id": "04d87c59",
   "metadata": {},
   "outputs": [],
   "source": [
    "# \\alpha TAB, TAB\n",
    "# start typing \\alpha and press tab to get drop down menu, press tab again to change to alpha symbol"
   ]
  },
  {
   "cell_type": "code",
   "execution_count": null,
   "id": "3b5388d9",
   "metadata": {},
   "outputs": [],
   "source": []
  },
  {
   "cell_type": "code",
   "execution_count": null,
   "id": "48324e01",
   "metadata": {},
   "outputs": [],
   "source": []
  },
  {
   "cell_type": "code",
   "execution_count": null,
   "id": "b4195395",
   "metadata": {},
   "outputs": [],
   "source": [
    "t_test - Two groups of continuous variables\n",
    "    -mean/avg\n",
    "\n",
    "pearsonr - Continuous variable vs continuous variable\n",
    "    - linear \n",
    "\n",
    "chi_2 - Categorical variable vs categorical variable\n",
    "    - proportions"
   ]
  },
  {
   "cell_type": "code",
   "execution_count": null,
   "id": "488aa949",
   "metadata": {},
   "outputs": [],
   "source": []
  },
  {
   "cell_type": "markdown",
   "id": "72f671e5",
   "metadata": {},
   "source": [
    "### Statistics Functions"
   ]
  },
  {
   "cell_type": "markdown",
   "id": "386c2ed6",
   "metadata": {},
   "source": [
    "##### stats.pearsonr(a, b)\n",
    "\n",
    "https://docs.scipy.org/doc/scipy/reference/generated/scipy.stats.pearsonr.html\n",
    "\n",
    "Input:\n",
    "\n",
    "    (stats.pearsonr(a, b))\n",
    "\n",
    "Output:\n",
    "\n",
    "    r_value, p_value"
   ]
  },
  {
   "cell_type": "markdown",
   "id": "e1654b73",
   "metadata": {},
   "source": [
    "##### stats.ttest_1samp()\n",
    "- A test for the H$_0$ that the expected mean of a sample of independent observations a, is equal to the given population mean, popmean.\n",
    "\n",
    "\n",
    "- For reference and to see more input possibilities \n",
    "   https://docs.scipy.org/doc/scipy/reference/generated/scipy.stats.ttest_1samp.html\n",
    "    \n",
    "Input:\n",
    "\n",
    "    stats.ttest_1samp(a, pop_mean)\n",
    "        a = sample observation\n",
    "        pop_mean = mean of sample population\n",
    " \n",
    "Output: \n",
    "\n",
    "    (t_statistic, p_value)"
   ]
  },
  {
   "cell_type": "markdown",
   "id": "fcf3c903",
   "metadata": {},
   "source": [
    "##### stats.chi2_contingency()\n",
    "\n",
    "- This function computes the chi-square statistic and p-value for the hypothesis test of independence of the observed frequencies in the contingency table observed.\n",
    "\n",
    "https://docs.scipy.org/doc/scipy/reference/generated/scipy.stats.chi2_contingency.html\n",
    "\n",
    "input:\n",
    "\n",
    "    stats.chi2_contingency()\n",
    "\n",
    "output:\n",
    "    \n",
    "    (chi2, p_value, dof, expected_freq)"
   ]
  },
  {
   "cell_type": "code",
   "execution_count": null,
   "id": "2513bcc4",
   "metadata": {},
   "outputs": [],
   "source": []
  }
 ],
 "metadata": {
  "kernelspec": {
   "display_name": "Python 3 (ipykernel)",
   "language": "python",
   "name": "python3"
  },
  "language_info": {
   "codemirror_mode": {
    "name": "ipython",
    "version": 3
   },
   "file_extension": ".py",
   "mimetype": "text/x-python",
   "name": "python",
   "nbconvert_exporter": "python",
   "pygments_lexer": "ipython3",
   "version": "3.9.13"
  }
 },
 "nbformat": 4,
 "nbformat_minor": 5
}
